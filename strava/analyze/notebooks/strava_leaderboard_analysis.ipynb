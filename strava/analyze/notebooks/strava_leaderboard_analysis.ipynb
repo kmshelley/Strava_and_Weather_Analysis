{
 "cells": [
  {
   "cell_type": "code",
   "execution_count": 58,
   "metadata": {
    "collapsed": false
   },
   "outputs": [],
   "source": [
    "import pandas as pd\n",
    "import statsmodels.api as sm\n",
    "import pylab as pl\n",
    "import numpy as np\n",
    "import matplotlib.pyplot as plt\n",
    "\n",
    "%matplotlib inline"
   ]
  },
  {
   "cell_type": "code",
   "execution_count": 59,
   "metadata": {
    "collapsed": false
   },
   "outputs": [],
   "source": [
    "df = pd.read_csv(\"leaderboards_7308448.csv\")"
   ]
  },
  {
   "cell_type": "code",
   "execution_count": 60,
   "metadata": {
    "collapsed": false
   },
   "outputs": [
    {
     "data": {
      "text/html": [
       "<div style=\"max-height:1000px;max-width:1500px;overflow:auto;\">\n",
       "<table border=\"1\" class=\"dataframe\">\n",
       "  <thead>\n",
       "    <tr style=\"text-align: right;\">\n",
       "      <th></th>\n",
       "      <th>athlete_name</th>\n",
       "      <th>rank</th>\n",
       "      <th>athlete_gender</th>\n",
       "      <th>start_date_local</th>\n",
       "      <th>distance</th>\n",
       "      <th>average_watts</th>\n",
       "      <th>moving_time</th>\n",
       "      <th>elapsed_time</th>\n",
       "      <th>average_hr</th>\n",
       "    </tr>\n",
       "  </thead>\n",
       "  <tbody>\n",
       "    <tr>\n",
       "      <th>0</th>\n",
       "      <td>The Todd</td>\n",
       "      <td>1</td>\n",
       "      <td>M</td>\n",
       "      <td>2015-03-29T15:24:15Z</td>\n",
       "      <td>489.1</td>\n",
       "      <td>NaN</td>\n",
       "      <td>20</td>\n",
       "      <td>20</td>\n",
       "      <td>NaN</td>\n",
       "    </tr>\n",
       "    <tr>\n",
       "      <th>1</th>\n",
       "      <td>Steve G</td>\n",
       "      <td>2</td>\n",
       "      <td>M</td>\n",
       "      <td>2011-10-11T18:35:58Z</td>\n",
       "      <td>449.4</td>\n",
       "      <td>521.0</td>\n",
       "      <td>33</td>\n",
       "      <td>33</td>\n",
       "      <td>185.5</td>\n",
       "    </tr>\n",
       "    <tr>\n",
       "      <th>2</th>\n",
       "      <td>Peter Cracknell</td>\n",
       "      <td>2</td>\n",
       "      <td>M</td>\n",
       "      <td>2012-05-06T13:39:11Z</td>\n",
       "      <td>491.8</td>\n",
       "      <td>572.2</td>\n",
       "      <td>33</td>\n",
       "      <td>33</td>\n",
       "      <td>NaN</td>\n",
       "    </tr>\n",
       "    <tr>\n",
       "      <th>3</th>\n",
       "      <td>Thomas De Gendt</td>\n",
       "      <td>2</td>\n",
       "      <td>M</td>\n",
       "      <td>2013-05-18T23:35:53Z</td>\n",
       "      <td>492.2</td>\n",
       "      <td>471.7</td>\n",
       "      <td>33</td>\n",
       "      <td>33</td>\n",
       "      <td>166.0</td>\n",
       "    </tr>\n",
       "    <tr>\n",
       "      <th>4</th>\n",
       "      <td>Jason Lokkesmoe</td>\n",
       "      <td>2</td>\n",
       "      <td>M</td>\n",
       "      <td>2013-08-26T17:11:58Z</td>\n",
       "      <td>426.9</td>\n",
       "      <td>508.1</td>\n",
       "      <td>33</td>\n",
       "      <td>33</td>\n",
       "      <td>NaN</td>\n",
       "    </tr>\n",
       "  </tbody>\n",
       "</table>\n",
       "</div>"
      ],
      "text/plain": [
       "      athlete_name  rank athlete_gender      start_date_local  distance  \\\n",
       "0         The Todd     1              M  2015-03-29T15:24:15Z     489.1   \n",
       "1          Steve G     2              M  2011-10-11T18:35:58Z     449.4   \n",
       "2  Peter Cracknell     2              M  2012-05-06T13:39:11Z     491.8   \n",
       "3  Thomas De Gendt     2              M  2013-05-18T23:35:53Z     492.2   \n",
       "4  Jason Lokkesmoe     2              M  2013-08-26T17:11:58Z     426.9   \n",
       "\n",
       "   average_watts  moving_time  elapsed_time  average_hr  \n",
       "0            NaN           20            20         NaN  \n",
       "1          521.0           33            33       185.5  \n",
       "2          572.2           33            33         NaN  \n",
       "3          471.7           33            33       166.0  \n",
       "4          508.1           33            33         NaN  "
      ]
     },
     "execution_count": 60,
     "metadata": {},
     "output_type": "execute_result"
    }
   ],
   "source": [
    "df.head()"
   ]
  },
  {
   "cell_type": "code",
   "execution_count": null,
   "metadata": {
    "collapsed": true
   },
   "outputs": [],
   "source": []
  },
  {
   "cell_type": "code",
   "execution_count": 61,
   "metadata": {
    "collapsed": false
   },
   "outputs": [
    {
     "data": {
      "text/html": [
       "<div style=\"max-height:1000px;max-width:1500px;overflow:auto;\">\n",
       "<table border=\"1\" class=\"dataframe\">\n",
       "  <thead>\n",
       "    <tr style=\"text-align: right;\">\n",
       "      <th></th>\n",
       "      <th>athlete_name</th>\n",
       "      <th>rank</th>\n",
       "      <th>athlete_gender</th>\n",
       "      <th>start_date_local</th>\n",
       "      <th>distance</th>\n",
       "      <th>average_watts</th>\n",
       "      <th>moving_time</th>\n",
       "      <th>elapsed_time</th>\n",
       "      <th>average_hr</th>\n",
       "    </tr>\n",
       "  </thead>\n",
       "  <tbody>\n",
       "    <tr>\n",
       "      <th>22852</th>\n",
       "      <td>Alicia Guzman</td>\n",
       "      <td>22875</td>\n",
       "      <td>F</td>\n",
       "      <td>2014-05-13T15:58:57Z</td>\n",
       "      <td>772.3</td>\n",
       "      <td>155.2</td>\n",
       "      <td>116</td>\n",
       "      <td>1187</td>\n",
       "      <td>NaN</td>\n",
       "    </tr>\n",
       "    <tr>\n",
       "      <th>19927</th>\n",
       "      <td>Mark Campbell</td>\n",
       "      <td>19878</td>\n",
       "      <td>M</td>\n",
       "      <td>2014-03-24T13:03:56Z</td>\n",
       "      <td>718.3</td>\n",
       "      <td>119.9</td>\n",
       "      <td>76</td>\n",
       "      <td>76</td>\n",
       "      <td>NaN</td>\n",
       "    </tr>\n",
       "    <tr>\n",
       "      <th>22834</th>\n",
       "      <td>Jessica Sanders</td>\n",
       "      <td>22857</td>\n",
       "      <td>F</td>\n",
       "      <td>2013-06-10T14:29:22Z</td>\n",
       "      <td>710.8</td>\n",
       "      <td>NaN</td>\n",
       "      <td>275</td>\n",
       "      <td>335</td>\n",
       "      <td>NaN</td>\n",
       "    </tr>\n",
       "    <tr>\n",
       "      <th>4532</th>\n",
       "      <td>Joe Blum</td>\n",
       "      <td>3928</td>\n",
       "      <td>M</td>\n",
       "      <td>2014-06-02T15:21:29Z</td>\n",
       "      <td>700.1</td>\n",
       "      <td>137.6</td>\n",
       "      <td>51</td>\n",
       "      <td>51</td>\n",
       "      <td>NaN</td>\n",
       "    </tr>\n",
       "    <tr>\n",
       "      <th>14554</th>\n",
       "      <td>Curtis Bisaillon</td>\n",
       "      <td>14503</td>\n",
       "      <td>M</td>\n",
       "      <td>2014-03-16T11:30:58Z</td>\n",
       "      <td>691.0</td>\n",
       "      <td>216.7</td>\n",
       "      <td>64</td>\n",
       "      <td>64</td>\n",
       "      <td>NaN</td>\n",
       "    </tr>\n",
       "  </tbody>\n",
       "</table>\n",
       "</div>"
      ],
      "text/plain": [
       "           athlete_name   rank athlete_gender      start_date_local  distance  \\\n",
       "22852     Alicia Guzman  22875              F  2014-05-13T15:58:57Z     772.3   \n",
       "19927     Mark Campbell  19878              M  2014-03-24T13:03:56Z     718.3   \n",
       "22834   Jessica Sanders  22857              F  2013-06-10T14:29:22Z     710.8   \n",
       "4532           Joe Blum   3928              M  2014-06-02T15:21:29Z     700.1   \n",
       "14554  Curtis Bisaillon  14503              M  2014-03-16T11:30:58Z     691.0   \n",
       "\n",
       "       average_watts  moving_time  elapsed_time  average_hr  \n",
       "22852          155.2          116          1187         NaN  \n",
       "19927          119.9           76            76         NaN  \n",
       "22834            NaN          275           335         NaN  \n",
       "4532           137.6           51            51         NaN  \n",
       "14554          216.7           64            64         NaN  "
      ]
     },
     "execution_count": 61,
     "metadata": {},
     "output_type": "execute_result"
    }
   ],
   "source": [
    "df.sort([\"distance\"], ascending=[0]).head()"
   ]
  },
  {
   "cell_type": "code",
   "execution_count": 62,
   "metadata": {
    "collapsed": false
   },
   "outputs": [
    {
     "data": {
      "text/html": [
       "<div style=\"max-height:1000px;max-width:1500px;overflow:auto;\">\n",
       "<table border=\"1\" class=\"dataframe\">\n",
       "  <thead>\n",
       "    <tr style=\"text-align: right;\">\n",
       "      <th></th>\n",
       "      <th>distance</th>\n",
       "      <th>moving_time</th>\n",
       "    </tr>\n",
       "  </thead>\n",
       "  <tbody>\n",
       "    <tr>\n",
       "      <th>count</th>\n",
       "      <td>22853.000000</td>\n",
       "      <td>22853.000000</td>\n",
       "    </tr>\n",
       "    <tr>\n",
       "      <th>mean</th>\n",
       "      <td>487.918050</td>\n",
       "      <td>62.172100</td>\n",
       "    </tr>\n",
       "    <tr>\n",
       "      <th>std</th>\n",
       "      <td>20.064151</td>\n",
       "      <td>14.777227</td>\n",
       "    </tr>\n",
       "    <tr>\n",
       "      <th>min</th>\n",
       "      <td>0.000000</td>\n",
       "      <td>0.000000</td>\n",
       "    </tr>\n",
       "    <tr>\n",
       "      <th>25%</th>\n",
       "      <td>483.500000</td>\n",
       "      <td>53.000000</td>\n",
       "    </tr>\n",
       "    <tr>\n",
       "      <th>50%</th>\n",
       "      <td>490.400000</td>\n",
       "      <td>60.000000</td>\n",
       "    </tr>\n",
       "    <tr>\n",
       "      <th>75%</th>\n",
       "      <td>496.500000</td>\n",
       "      <td>68.000000</td>\n",
       "    </tr>\n",
       "    <tr>\n",
       "      <th>max</th>\n",
       "      <td>772.300000</td>\n",
       "      <td>352.000000</td>\n",
       "    </tr>\n",
       "  </tbody>\n",
       "</table>\n",
       "</div>"
      ],
      "text/plain": [
       "           distance   moving_time\n",
       "count  22853.000000  22853.000000\n",
       "mean     487.918050     62.172100\n",
       "std       20.064151     14.777227\n",
       "min        0.000000      0.000000\n",
       "25%      483.500000     53.000000\n",
       "50%      490.400000     60.000000\n",
       "75%      496.500000     68.000000\n",
       "max      772.300000    352.000000"
      ]
     },
     "execution_count": 62,
     "metadata": {},
     "output_type": "execute_result"
    }
   ],
   "source": [
    "df[[\"distance\", \"moving_time\"]].describe()"
   ]
  },
  {
   "cell_type": "code",
   "execution_count": 63,
   "metadata": {
    "collapsed": false
   },
   "outputs": [
    {
     "data": {
      "text/plain": [
       "<matplotlib.text.Text at 0x111779610>"
      ]
     },
     "execution_count": 63,
     "metadata": {},
     "output_type": "execute_result"
    },
    {
     "data": {
      "image/png": "[encoded data removed]",
      "text/plain": [
       "<matplotlib.figure.Figure at 0x110dcd8d0>"
      ]
     },
     "metadata": {},
     "output_type": "display_data"
    }
   ],
   "source": [
    "plt.figure();\n",
    "ax = df['moving_time'].plot(title=\"Time Taken\")\n",
    "ax.set_xlabel(\"Rank\")\n",
    "ax.set_ylabel(\"Moving Time\")"
   ]
  },
  {
   "cell_type": "code",
   "execution_count": 96,
   "metadata": {
    "collapsed": false
   },
   "outputs": [
    {
     "data": {
      "text/plain": [
       "count    22852.000000\n",
       "mean        18.289043\n",
       "std          3.410893\n",
       "min          2.282692\n",
       "25%         16.177365\n",
       "50%         18.324690\n",
       "75%         20.440161\n",
       "max         54.704277\n",
       "Name: speed, dtype: float64"
      ]
     },
     "execution_count": 96,
     "metadata": {},
     "output_type": "execute_result"
    }
   ],
   "source": [
    "df[\"speed\"] = (df[\"distance\"] / (1609.344 * df[\"moving_time\"])) * 3600\n",
    "df[\"speed\"].describe()"
   ]
  },
  {
   "cell_type": "code",
   "execution_count": 65,
   "metadata": {
    "collapsed": false
   },
   "outputs": [
    {
     "data": {
      "text/html": [
       "<div style=\"max-height:1000px;max-width:1500px;overflow:auto;\">\n",
       "<table border=\"1\" class=\"dataframe\">\n",
       "  <thead>\n",
       "    <tr style=\"text-align: right;\">\n",
       "      <th></th>\n",
       "      <th>athlete_name</th>\n",
       "      <th>rank</th>\n",
       "      <th>athlete_gender</th>\n",
       "      <th>start_date_local</th>\n",
       "      <th>distance</th>\n",
       "      <th>average_watts</th>\n",
       "      <th>moving_time</th>\n",
       "      <th>elapsed_time</th>\n",
       "      <th>average_hr</th>\n",
       "      <th>speed</th>\n",
       "    </tr>\n",
       "  </thead>\n",
       "  <tbody>\n",
       "    <tr>\n",
       "      <th>0</th>\n",
       "      <td>The Todd</td>\n",
       "      <td>1</td>\n",
       "      <td>M</td>\n",
       "      <td>2015-03-29T15:24:15Z</td>\n",
       "      <td>489.1</td>\n",
       "      <td>NaN</td>\n",
       "      <td>20</td>\n",
       "      <td>20</td>\n",
       "      <td>NaN</td>\n",
       "      <td>54.704277</td>\n",
       "    </tr>\n",
       "    <tr>\n",
       "      <th>1</th>\n",
       "      <td>Steve G</td>\n",
       "      <td>2</td>\n",
       "      <td>M</td>\n",
       "      <td>2011-10-11T18:35:58Z</td>\n",
       "      <td>449.4</td>\n",
       "      <td>521.0</td>\n",
       "      <td>33</td>\n",
       "      <td>33</td>\n",
       "      <td>185.5</td>\n",
       "      <td>30.463005</td>\n",
       "    </tr>\n",
       "    <tr>\n",
       "      <th>2</th>\n",
       "      <td>Peter Cracknell</td>\n",
       "      <td>2</td>\n",
       "      <td>M</td>\n",
       "      <td>2012-05-06T13:39:11Z</td>\n",
       "      <td>491.8</td>\n",
       "      <td>572.2</td>\n",
       "      <td>33</td>\n",
       "      <td>33</td>\n",
       "      <td>NaN</td>\n",
       "      <td>33.337129</td>\n",
       "    </tr>\n",
       "    <tr>\n",
       "      <th>3</th>\n",
       "      <td>Thomas De Gendt</td>\n",
       "      <td>2</td>\n",
       "      <td>M</td>\n",
       "      <td>2013-05-18T23:35:53Z</td>\n",
       "      <td>492.2</td>\n",
       "      <td>471.7</td>\n",
       "      <td>33</td>\n",
       "      <td>33</td>\n",
       "      <td>166.0</td>\n",
       "      <td>33.364244</td>\n",
       "    </tr>\n",
       "    <tr>\n",
       "      <th>4</th>\n",
       "      <td>Jason Lokkesmoe</td>\n",
       "      <td>2</td>\n",
       "      <td>M</td>\n",
       "      <td>2013-08-26T17:11:58Z</td>\n",
       "      <td>426.9</td>\n",
       "      <td>508.1</td>\n",
       "      <td>33</td>\n",
       "      <td>33</td>\n",
       "      <td>NaN</td>\n",
       "      <td>28.937821</td>\n",
       "    </tr>\n",
       "    <tr>\n",
       "      <th>5</th>\n",
       "      <td>Scott Harrington</td>\n",
       "      <td>6</td>\n",
       "      <td>M</td>\n",
       "      <td>2009-11-26T22:31:48Z</td>\n",
       "      <td>399.2</td>\n",
       "      <td>NaN</td>\n",
       "      <td>34</td>\n",
       "      <td>34</td>\n",
       "      <td>NaN</td>\n",
       "      <td>26.264264</td>\n",
       "    </tr>\n",
       "    <tr>\n",
       "      <th>6</th>\n",
       "      <td>Bruce Prescott</td>\n",
       "      <td>6</td>\n",
       "      <td>M</td>\n",
       "      <td>2011-02-21T10:07:51Z</td>\n",
       "      <td>417.6</td>\n",
       "      <td>300.8</td>\n",
       "      <td>34</td>\n",
       "      <td>34</td>\n",
       "      <td>NaN</td>\n",
       "      <td>27.474841</td>\n",
       "    </tr>\n",
       "    <tr>\n",
       "      <th>7</th>\n",
       "      <td>Ben Jacques-Maynes</td>\n",
       "      <td>6</td>\n",
       "      <td>M</td>\n",
       "      <td>2013-05-19T08:35:55Z</td>\n",
       "      <td>461.7</td>\n",
       "      <td>502.2</td>\n",
       "      <td>34</td>\n",
       "      <td>34</td>\n",
       "      <td>NaN</td>\n",
       "      <td>30.376279</td>\n",
       "    </tr>\n",
       "    <tr>\n",
       "      <th>8</th>\n",
       "      <td>James Stemper</td>\n",
       "      <td>6</td>\n",
       "      <td>M</td>\n",
       "      <td>2013-05-19T08:35:54Z</td>\n",
       "      <td>480.2</td>\n",
       "      <td>554.1</td>\n",
       "      <td>34</td>\n",
       "      <td>34</td>\n",
       "      <td>NaN</td>\n",
       "      <td>31.593436</td>\n",
       "    </tr>\n",
       "    <tr>\n",
       "      <th>9</th>\n",
       "      <td>Fred  Haise</td>\n",
       "      <td>6</td>\n",
       "      <td>M</td>\n",
       "      <td>2013-05-19T08:35:59Z</td>\n",
       "      <td>462.4</td>\n",
       "      <td>548.0</td>\n",
       "      <td>34</td>\n",
       "      <td>34</td>\n",
       "      <td>NaN</td>\n",
       "      <td>30.422334</td>\n",
       "    </tr>\n",
       "  </tbody>\n",
       "</table>\n",
       "</div>"
      ],
      "text/plain": [
       "         athlete_name  rank athlete_gender      start_date_local  distance  \\\n",
       "0            The Todd     1              M  2015-03-29T15:24:15Z     489.1   \n",
       "1             Steve G     2              M  2011-10-11T18:35:58Z     449.4   \n",
       "2     Peter Cracknell     2              M  2012-05-06T13:39:11Z     491.8   \n",
       "3     Thomas De Gendt     2              M  2013-05-18T23:35:53Z     492.2   \n",
       "4     Jason Lokkesmoe     2              M  2013-08-26T17:11:58Z     426.9   \n",
       "5    Scott Harrington     6              M  2009-11-26T22:31:48Z     399.2   \n",
       "6      Bruce Prescott     6              M  2011-02-21T10:07:51Z     417.6   \n",
       "7  Ben Jacques-Maynes     6              M  2013-05-19T08:35:55Z     461.7   \n",
       "8       James Stemper     6              M  2013-05-19T08:35:54Z     480.2   \n",
       "9        Fred  Haise      6              M  2013-05-19T08:35:59Z     462.4   \n",
       "\n",
       "   average_watts  moving_time  elapsed_time  average_hr      speed  \n",
       "0            NaN           20            20         NaN  54.704277  \n",
       "1          521.0           33            33       185.5  30.463005  \n",
       "2          572.2           33            33         NaN  33.337129  \n",
       "3          471.7           33            33       166.0  33.364244  \n",
       "4          508.1           33            33         NaN  28.937821  \n",
       "5            NaN           34            34         NaN  26.264264  \n",
       "6          300.8           34            34         NaN  27.474841  \n",
       "7          502.2           34            34         NaN  30.376279  \n",
       "8          554.1           34            34         NaN  31.593436  \n",
       "9          548.0           34            34         NaN  30.422334  "
      ]
     },
     "execution_count": 65,
     "metadata": {},
     "output_type": "execute_result"
    }
   ],
   "source": [
    "df[0:10]"
   ]
  },
  {
   "cell_type": "code",
   "execution_count": 66,
   "metadata": {
    "collapsed": false
   },
   "outputs": [
    {
     "data": {
      "text/plain": [
       "<matplotlib.text.Text at 0x112a9b4d0>"
      ]
     },
     "execution_count": 66,
     "metadata": {},
     "output_type": "execute_result"
    },
    {
     "data": {
      "image/png": "[encoded data removed]",
      "text/plain": [
       "<matplotlib.figure.Figure at 0x112a81b90>"
      ]
     },
     "metadata": {},
     "output_type": "display_data"
    }
   ],
   "source": [
    "ax = df['speed'].plot(title=\"Speed\")\n",
    "ax.set_xlabel(\"Rank\")\n",
    "ax.set_ylabel(\"Speed\")"
   ]
  },
  {
   "cell_type": "code",
   "execution_count": 67,
   "metadata": {
    "collapsed": false
   },
   "outputs": [
    {
     "data": {
      "text/html": [
       "<div style=\"max-height:1000px;max-width:1500px;overflow:auto;\">\n",
       "<table border=\"1\" class=\"dataframe\">\n",
       "  <thead>\n",
       "    <tr style=\"text-align: right;\">\n",
       "      <th></th>\n",
       "      <th>athlete_name</th>\n",
       "      <th>rank</th>\n",
       "      <th>athlete_gender</th>\n",
       "      <th>start_date_local</th>\n",
       "      <th>distance</th>\n",
       "      <th>average_watts</th>\n",
       "      <th>moving_time</th>\n",
       "      <th>elapsed_time</th>\n",
       "      <th>average_hr</th>\n",
       "      <th>speed</th>\n",
       "      <th>male</th>\n",
       "    </tr>\n",
       "  </thead>\n",
       "  <tbody>\n",
       "    <tr>\n",
       "      <th>0</th>\n",
       "      <td>The Todd</td>\n",
       "      <td>1</td>\n",
       "      <td>M</td>\n",
       "      <td>2015-03-29T15:24:15Z</td>\n",
       "      <td>489.1</td>\n",
       "      <td>NaN</td>\n",
       "      <td>20</td>\n",
       "      <td>20</td>\n",
       "      <td>NaN</td>\n",
       "      <td>54.704277</td>\n",
       "      <td>1</td>\n",
       "    </tr>\n",
       "    <tr>\n",
       "      <th>1</th>\n",
       "      <td>Steve G</td>\n",
       "      <td>2</td>\n",
       "      <td>M</td>\n",
       "      <td>2011-10-11T18:35:58Z</td>\n",
       "      <td>449.4</td>\n",
       "      <td>521.0</td>\n",
       "      <td>33</td>\n",
       "      <td>33</td>\n",
       "      <td>185.5</td>\n",
       "      <td>30.463005</td>\n",
       "      <td>1</td>\n",
       "    </tr>\n",
       "    <tr>\n",
       "      <th>2</th>\n",
       "      <td>Peter Cracknell</td>\n",
       "      <td>2</td>\n",
       "      <td>M</td>\n",
       "      <td>2012-05-06T13:39:11Z</td>\n",
       "      <td>491.8</td>\n",
       "      <td>572.2</td>\n",
       "      <td>33</td>\n",
       "      <td>33</td>\n",
       "      <td>NaN</td>\n",
       "      <td>33.337129</td>\n",
       "      <td>1</td>\n",
       "    </tr>\n",
       "    <tr>\n",
       "      <th>3</th>\n",
       "      <td>Thomas De Gendt</td>\n",
       "      <td>2</td>\n",
       "      <td>M</td>\n",
       "      <td>2013-05-18T23:35:53Z</td>\n",
       "      <td>492.2</td>\n",
       "      <td>471.7</td>\n",
       "      <td>33</td>\n",
       "      <td>33</td>\n",
       "      <td>166.0</td>\n",
       "      <td>33.364244</td>\n",
       "      <td>1</td>\n",
       "    </tr>\n",
       "    <tr>\n",
       "      <th>4</th>\n",
       "      <td>Jason Lokkesmoe</td>\n",
       "      <td>2</td>\n",
       "      <td>M</td>\n",
       "      <td>2013-08-26T17:11:58Z</td>\n",
       "      <td>426.9</td>\n",
       "      <td>508.1</td>\n",
       "      <td>33</td>\n",
       "      <td>33</td>\n",
       "      <td>NaN</td>\n",
       "      <td>28.937821</td>\n",
       "      <td>1</td>\n",
       "    </tr>\n",
       "    <tr>\n",
       "      <th>5</th>\n",
       "      <td>Scott Harrington</td>\n",
       "      <td>6</td>\n",
       "      <td>M</td>\n",
       "      <td>2009-11-26T22:31:48Z</td>\n",
       "      <td>399.2</td>\n",
       "      <td>NaN</td>\n",
       "      <td>34</td>\n",
       "      <td>34</td>\n",
       "      <td>NaN</td>\n",
       "      <td>26.264264</td>\n",
       "      <td>1</td>\n",
       "    </tr>\n",
       "    <tr>\n",
       "      <th>6</th>\n",
       "      <td>Bruce Prescott</td>\n",
       "      <td>6</td>\n",
       "      <td>M</td>\n",
       "      <td>2011-02-21T10:07:51Z</td>\n",
       "      <td>417.6</td>\n",
       "      <td>300.8</td>\n",
       "      <td>34</td>\n",
       "      <td>34</td>\n",
       "      <td>NaN</td>\n",
       "      <td>27.474841</td>\n",
       "      <td>1</td>\n",
       "    </tr>\n",
       "    <tr>\n",
       "      <th>7</th>\n",
       "      <td>Ben Jacques-Maynes</td>\n",
       "      <td>6</td>\n",
       "      <td>M</td>\n",
       "      <td>2013-05-19T08:35:55Z</td>\n",
       "      <td>461.7</td>\n",
       "      <td>502.2</td>\n",
       "      <td>34</td>\n",
       "      <td>34</td>\n",
       "      <td>NaN</td>\n",
       "      <td>30.376279</td>\n",
       "      <td>1</td>\n",
       "    </tr>\n",
       "    <tr>\n",
       "      <th>8</th>\n",
       "      <td>James Stemper</td>\n",
       "      <td>6</td>\n",
       "      <td>M</td>\n",
       "      <td>2013-05-19T08:35:54Z</td>\n",
       "      <td>480.2</td>\n",
       "      <td>554.1</td>\n",
       "      <td>34</td>\n",
       "      <td>34</td>\n",
       "      <td>NaN</td>\n",
       "      <td>31.593436</td>\n",
       "      <td>1</td>\n",
       "    </tr>\n",
       "    <tr>\n",
       "      <th>9</th>\n",
       "      <td>Fred  Haise</td>\n",
       "      <td>6</td>\n",
       "      <td>M</td>\n",
       "      <td>2013-05-19T08:35:59Z</td>\n",
       "      <td>462.4</td>\n",
       "      <td>548.0</td>\n",
       "      <td>34</td>\n",
       "      <td>34</td>\n",
       "      <td>NaN</td>\n",
       "      <td>30.422334</td>\n",
       "      <td>1</td>\n",
       "    </tr>\n",
       "  </tbody>\n",
       "</table>\n",
       "</div>"
      ],
      "text/plain": [
       "         athlete_name  rank athlete_gender      start_date_local  distance  \\\n",
       "0            The Todd     1              M  2015-03-29T15:24:15Z     489.1   \n",
       "1             Steve G     2              M  2011-10-11T18:35:58Z     449.4   \n",
       "2     Peter Cracknell     2              M  2012-05-06T13:39:11Z     491.8   \n",
       "3     Thomas De Gendt     2              M  2013-05-18T23:35:53Z     492.2   \n",
       "4     Jason Lokkesmoe     2              M  2013-08-26T17:11:58Z     426.9   \n",
       "5    Scott Harrington     6              M  2009-11-26T22:31:48Z     399.2   \n",
       "6      Bruce Prescott     6              M  2011-02-21T10:07:51Z     417.6   \n",
       "7  Ben Jacques-Maynes     6              M  2013-05-19T08:35:55Z     461.7   \n",
       "8       James Stemper     6              M  2013-05-19T08:35:54Z     480.2   \n",
       "9        Fred  Haise      6              M  2013-05-19T08:35:59Z     462.4   \n",
       "\n",
       "   average_watts  moving_time  elapsed_time  average_hr      speed  male  \n",
       "0            NaN           20            20         NaN  54.704277     1  \n",
       "1          521.0           33            33       185.5  30.463005     1  \n",
       "2          572.2           33            33         NaN  33.337129     1  \n",
       "3          471.7           33            33       166.0  33.364244     1  \n",
       "4          508.1           33            33         NaN  28.937821     1  \n",
       "5            NaN           34            34         NaN  26.264264     1  \n",
       "6          300.8           34            34         NaN  27.474841     1  \n",
       "7          502.2           34            34         NaN  30.376279     1  \n",
       "8          554.1           34            34         NaN  31.593436     1  \n",
       "9          548.0           34            34         NaN  30.422334     1  "
      ]
     },
     "execution_count": 67,
     "metadata": {},
     "output_type": "execute_result"
    }
   ],
   "source": [
    "df[\"male\"] = np.where(df['athlete_gender']=='M', 1, 0)\n",
    "df[0:10]"
   ]
  },
  {
   "cell_type": "code",
   "execution_count": 68,
   "metadata": {
    "collapsed": false
   },
   "outputs": [
    {
     "data": {
      "text/plain": [
       "<matplotlib.axes._subplots.AxesSubplot at 0x111779290>"
      ]
     },
     "execution_count": 68,
     "metadata": {},
     "output_type": "execute_result"
    },
    {
     "data": {
      "image/png": "[encoded data removed]",
      "text/plain": [
       "<matplotlib.figure.Figure at 0x11292d9d0>"
      ]
     },
     "metadata": {},
     "output_type": "display_data"
    }
   ],
   "source": [
    "df.plot(kind=\"hexbin\", x=\"rank\", y=\"average_watts\", gridsize=40)"
   ]
  },
  {
   "cell_type": "code",
   "execution_count": 69,
   "metadata": {
    "collapsed": false
   },
   "outputs": [
    {
     "data": {
      "image/png": "[encoded data removed]",
      "text/plain": [
       "<matplotlib.figure.Figure at 0x11292dc50>"
      ]
     },
     "metadata": {},
     "output_type": "display_data"
    }
   ],
   "source": [
    "df1 = df[[\"athlete_gender\",\"speed\"]].boxplot(by=\"athlete_gender\", fontsize=16, figsize=(5,4))"
   ]
  },
  {
   "cell_type": "code",
   "execution_count": 70,
   "metadata": {
    "collapsed": false
   },
   "outputs": [
    {
     "data": {
      "text/plain": [
       "array([[ 489.1,   20. ],\n",
       "       [ 449.4,   33. ],\n",
       "       [ 491.8,   33. ],\n",
       "       ..., \n",
       "       [ 530.6,  130. ],\n",
       "       [ 517.6,  148. ],\n",
       "       [ 772.3,  116. ]])"
      ]
     },
     "execution_count": 70,
     "metadata": {},
     "output_type": "execute_result"
    }
   ],
   "source": [
    "df1 = df[[\"distance\", \"moving_time\"]].values\n",
    "df1"
   ]
  },
  {
   "cell_type": "code",
   "execution_count": 71,
   "metadata": {
    "collapsed": false
   },
   "outputs": [
    {
     "name": "stdout",
     "output_type": "stream",
     "text": [
      "@@@ Number of estimated clusters : 6\n"
     ]
    }
   ],
   "source": [
    "from sklearn.cluster import MeanShift, estimate_bandwidth\n",
    "from sklearn.datasets.samples_generator import make_blobs\n",
    "\n",
    "###############################################################################\n",
    "# Generate sample data\n",
    "X, _ = make_blobs(n_samples=500, n_features=2, centers=df1, cluster_std=0.6)\n",
    "\n",
    "###############################################################################\n",
    "# Compute clustering with MeanShift\n",
    "\n",
    "# The following bandwidth can be automatically detected using\n",
    "bandwidth = estimate_bandwidth(X, quantile=0.2, n_samples=500)\n",
    "\n",
    "ms = MeanShift(bandwidth=bandwidth, bin_seeding=True)\n",
    "ms.fit(X)\n",
    "labels = ms.labels_\n",
    "cluster_centers = ms.cluster_centers_\n",
    "\n",
    "labels_unique = np.unique(labels)\n",
    "n_clusters_ = len(labels_unique)\n",
    "\n",
    "print(\"@@@ Number of estimated clusters : %d\" % n_clusters_)\n"
   ]
  },
  {
   "cell_type": "code",
   "execution_count": 72,
   "metadata": {
    "collapsed": false,
    "scrolled": true
   },
   "outputs": [
    {
     "data": {
      "image/png": "[encoded data removed]",
      "text/plain": [
       "<matplotlib.figure.Figure at 0x110d32310>"
      ]
     },
     "metadata": {},
     "output_type": "display_data"
    }
   ],
   "source": [
    "###############################################################################\n",
    "# Plot result\n",
    "import matplotlib.pyplot as plt\n",
    "from itertools import cycle\n",
    "\n",
    "plt.figure(1)\n",
    "plt.clf()\n",
    "\n",
    "colors = cycle('bgrcmykbgrcmykbgrcmykbgrcmyk')\n",
    "for k, col in zip(range(n_clusters_), colors):\n",
    "    my_members = labels == k\n",
    "    cluster_center = cluster_centers[k]\n",
    "    plt.plot(X[my_members, 0], X[my_members, 1], col + '.')\n",
    "    plt.plot(cluster_center[0], cluster_center[1], 'o', markerfacecolor=col,\n",
    "             markeredgecolor='k', markersize=14)\n",
    "plt.title('Estimated number of clusters: %d' % n_clusters_)\n",
    "plt.show()"
   ]
  },
  {
   "cell_type": "code",
   "execution_count": 78,
   "metadata": {
    "collapsed": false
   },
   "outputs": [],
   "source": [
    "import json\n",
    "with open('segments.json') as f:\n",
    "    df2 = pd.DataFrame(json.loads(line) for line in f)"
   ]
  },
  {
   "cell_type": "code",
   "execution_count": 79,
   "metadata": {
    "collapsed": false
   },
   "outputs": [
    {
     "data": {
      "text/html": [
       "<div style=\"max-height:1000px;max-width:1500px;overflow:auto;\">\n",
       "<table border=\"1\" class=\"dataframe\">\n",
       "  <thead>\n",
       "    <tr style=\"text-align: right;\">\n",
       "      <th></th>\n",
       "      <th>_id</th>\n",
       "      <th>activity_type</th>\n",
       "      <th>athlete_count</th>\n",
       "      <th>athlete_segment_stats</th>\n",
       "      <th>average_grade</th>\n",
       "      <th>city</th>\n",
       "      <th>climb_category</th>\n",
       "      <th>country</th>\n",
       "      <th>created_at</th>\n",
       "      <th>distance</th>\n",
       "      <th>...</th>\n",
       "      <th>private</th>\n",
       "      <th>resource_state</th>\n",
       "      <th>star_count</th>\n",
       "      <th>starred</th>\n",
       "      <th>start_latitude</th>\n",
       "      <th>start_latlng</th>\n",
       "      <th>start_longitude</th>\n",
       "      <th>state</th>\n",
       "      <th>total_elevation_gain</th>\n",
       "      <th>updated_at</th>\n",
       "    </tr>\n",
       "  </thead>\n",
       "  <tbody>\n",
       "    <tr>\n",
       "      <th>0</th>\n",
       "      <td>{u'$oid': u'5520da27fe36ad258b06923b'}</td>\n",
       "      <td>Ride</td>\n",
       "      <td>74</td>\n",
       "      <td>{u'effort_count': 0, u'pr_date': None, u'pr_el...</td>\n",
       "      <td>0.4</td>\n",
       "      <td>None</td>\n",
       "      <td>0</td>\n",
       "      <td>None</td>\n",
       "      <td>2014-05-26T06:32:27Z</td>\n",
       "      <td>2000.000</td>\n",
       "      <td>...</td>\n",
       "      <td>False</td>\n",
       "      <td>3</td>\n",
       "      <td>3</td>\n",
       "      <td>False</td>\n",
       "      <td>33.969531</td>\n",
       "      <td>[33.969531, -118.256342]</td>\n",
       "      <td>-118.256342</td>\n",
       "      <td>None</td>\n",
       "      <td>8.2</td>\n",
       "      <td>2015-04-04T08:03:09Z</td>\n",
       "    </tr>\n",
       "    <tr>\n",
       "      <th>1</th>\n",
       "      <td>{u'$oid': u'5520da28fe36ad258b069286'}</td>\n",
       "      <td>Ride</td>\n",
       "      <td>100</td>\n",
       "      <td>{u'effort_count': 0, u'pr_date': None, u'pr_el...</td>\n",
       "      <td>-0.5</td>\n",
       "      <td>Los Angeles</td>\n",
       "      <td>0</td>\n",
       "      <td>United States</td>\n",
       "      <td>2014-11-09T23:18:50Z</td>\n",
       "      <td>387.700</td>\n",
       "      <td>...</td>\n",
       "      <td>False</td>\n",
       "      <td>3</td>\n",
       "      <td>1</td>\n",
       "      <td>False</td>\n",
       "      <td>33.981649</td>\n",
       "      <td>[33.981649, -118.256546]</td>\n",
       "      <td>-118.256546</td>\n",
       "      <td>California</td>\n",
       "      <td>0.0</td>\n",
       "      <td>2015-04-02T08:03:56Z</td>\n",
       "    </tr>\n",
       "    <tr>\n",
       "      <th>2</th>\n",
       "      <td>{u'$oid': u'5520da2afe36ad258b0692eb'}</td>\n",
       "      <td>Ride</td>\n",
       "      <td>83</td>\n",
       "      <td>{u'effort_count': 0, u'pr_date': None, u'pr_el...</td>\n",
       "      <td>-0.1</td>\n",
       "      <td>None</td>\n",
       "      <td>0</td>\n",
       "      <td>None</td>\n",
       "      <td>2013-03-14T13:31:00Z</td>\n",
       "      <td>642.891</td>\n",
       "      <td>...</td>\n",
       "      <td>False</td>\n",
       "      <td>3</td>\n",
       "      <td>1</td>\n",
       "      <td>False</td>\n",
       "      <td>33.960080</td>\n",
       "      <td>[33.96008035, -118.24196243]</td>\n",
       "      <td>-118.241962</td>\n",
       "      <td>None</td>\n",
       "      <td>15.3</td>\n",
       "      <td>2015-04-03T08:02:47Z</td>\n",
       "    </tr>\n",
       "    <tr>\n",
       "      <th>3</th>\n",
       "      <td>{u'$oid': u'5520da2cfe36ad258b06933f'}</td>\n",
       "      <td>Ride</td>\n",
       "      <td>1</td>\n",
       "      <td>{u'effort_count': 0, u'pr_date': None, u'pr_el...</td>\n",
       "      <td>0.0</td>\n",
       "      <td>Vernon</td>\n",
       "      <td>0</td>\n",
       "      <td>United States</td>\n",
       "      <td>2012-10-04T01:04:03Z</td>\n",
       "      <td>1042.420</td>\n",
       "      <td>...</td>\n",
       "      <td>False</td>\n",
       "      <td>3</td>\n",
       "      <td>1</td>\n",
       "      <td>False</td>\n",
       "      <td>33.987141</td>\n",
       "      <td>[33.9871405, -118.23570142]</td>\n",
       "      <td>-118.235701</td>\n",
       "      <td>CA</td>\n",
       "      <td>0.0</td>\n",
       "      <td>2015-03-29T08:02:38Z</td>\n",
       "    </tr>\n",
       "    <tr>\n",
       "      <th>4</th>\n",
       "      <td>{u'$oid': u'5520da2dfe36ad258b069341'}</td>\n",
       "      <td>Ride</td>\n",
       "      <td>79</td>\n",
       "      <td>{u'effort_count': 0, u'pr_date': None, u'pr_el...</td>\n",
       "      <td>-0.4</td>\n",
       "      <td>Los Angeles</td>\n",
       "      <td>0</td>\n",
       "      <td>United States</td>\n",
       "      <td>2014-11-09T23:33:44Z</td>\n",
       "      <td>772.600</td>\n",
       "      <td>...</td>\n",
       "      <td>False</td>\n",
       "      <td>3</td>\n",
       "      <td>1</td>\n",
       "      <td>False</td>\n",
       "      <td>33.974300</td>\n",
       "      <td>[33.9743, -118.256505]</td>\n",
       "      <td>-118.256505</td>\n",
       "      <td>California</td>\n",
       "      <td>0.0</td>\n",
       "      <td>2015-04-02T08:03:56Z</td>\n",
       "    </tr>\n",
       "  </tbody>\n",
       "</table>\n",
       "<p>5 rows × 32 columns</p>\n",
       "</div>"
      ],
      "text/plain": [
       "                                      _id activity_type  athlete_count  \\\n",
       "0  {u'$oid': u'5520da27fe36ad258b06923b'}          Ride             74   \n",
       "1  {u'$oid': u'5520da28fe36ad258b069286'}          Ride            100   \n",
       "2  {u'$oid': u'5520da2afe36ad258b0692eb'}          Ride             83   \n",
       "3  {u'$oid': u'5520da2cfe36ad258b06933f'}          Ride              1   \n",
       "4  {u'$oid': u'5520da2dfe36ad258b069341'}          Ride             79   \n",
       "\n",
       "                               athlete_segment_stats  average_grade  \\\n",
       "0  {u'effort_count': 0, u'pr_date': None, u'pr_el...            0.4   \n",
       "1  {u'effort_count': 0, u'pr_date': None, u'pr_el...           -0.5   \n",
       "2  {u'effort_count': 0, u'pr_date': None, u'pr_el...           -0.1   \n",
       "3  {u'effort_count': 0, u'pr_date': None, u'pr_el...            0.0   \n",
       "4  {u'effort_count': 0, u'pr_date': None, u'pr_el...           -0.4   \n",
       "\n",
       "          city  climb_category        country            created_at  distance  \\\n",
       "0         None               0           None  2014-05-26T06:32:27Z  2000.000   \n",
       "1  Los Angeles               0  United States  2014-11-09T23:18:50Z   387.700   \n",
       "2         None               0           None  2013-03-14T13:31:00Z   642.891   \n",
       "3       Vernon               0  United States  2012-10-04T01:04:03Z  1042.420   \n",
       "4  Los Angeles               0  United States  2014-11-09T23:33:44Z   772.600   \n",
       "\n",
       "           ...           private  resource_state  star_count  starred  \\\n",
       "0          ...             False               3           3    False   \n",
       "1          ...             False               3           1    False   \n",
       "2          ...             False               3           1    False   \n",
       "3          ...             False               3           1    False   \n",
       "4          ...             False               3           1    False   \n",
       "\n",
       "  start_latitude                  start_latlng start_longitude       state  \\\n",
       "0      33.969531      [33.969531, -118.256342]     -118.256342        None   \n",
       "1      33.981649      [33.981649, -118.256546]     -118.256546  California   \n",
       "2      33.960080  [33.96008035, -118.24196243]     -118.241962        None   \n",
       "3      33.987141   [33.9871405, -118.23570142]     -118.235701          CA   \n",
       "4      33.974300        [33.9743, -118.256505]     -118.256505  California   \n",
       "\n",
       "  total_elevation_gain            updated_at  \n",
       "0                  8.2  2015-04-04T08:03:09Z  \n",
       "1                  0.0  2015-04-02T08:03:56Z  \n",
       "2                 15.3  2015-04-03T08:02:47Z  \n",
       "3                  0.0  2015-03-29T08:02:38Z  \n",
       "4                  0.0  2015-04-02T08:03:56Z  \n",
       "\n",
       "[5 rows x 32 columns]"
      ]
     },
     "execution_count": 79,
     "metadata": {},
     "output_type": "execute_result"
    }
   ],
   "source": [
    "df2.head()"
   ]
  },
  {
   "cell_type": "code",
   "execution_count": 95,
   "metadata": {
    "collapsed": false
   },
   "outputs": [
    {
     "data": {
      "text/html": [
       "<div style=\"max-height:1000px;max-width:1500px;overflow:auto;\">\n",
       "<table border=\"1\" class=\"dataframe\">\n",
       "  <thead>\n",
       "    <tr style=\"text-align: right;\">\n",
       "      <th></th>\n",
       "      <th>city</th>\n",
       "    </tr>\n",
       "  </thead>\n",
       "  <tbody>\n",
       "    <tr>\n",
       "      <th>count</th>\n",
       "      <td>10923</td>\n",
       "    </tr>\n",
       "    <tr>\n",
       "      <th>unique</th>\n",
       "      <td>1818</td>\n",
       "    </tr>\n",
       "    <tr>\n",
       "      <th>top</th>\n",
       "      <td>Los Angeles</td>\n",
       "    </tr>\n",
       "    <tr>\n",
       "      <th>freq</th>\n",
       "      <td>393</td>\n",
       "    </tr>\n",
       "  </tbody>\n",
       "</table>\n",
       "</div>"
      ],
      "text/plain": [
       "               city\n",
       "count         10923\n",
       "unique         1818\n",
       "top     Los Angeles\n",
       "freq            393"
      ]
     },
     "execution_count": 95,
     "metadata": {},
     "output_type": "execute_result"
    }
   ],
   "source": [
    "df2[[\"city\"]].describe()"
   ]
  },
  {
   "cell_type": "code",
   "execution_count": null,
   "metadata": {
    "collapsed": true
   },
   "outputs": [],
   "source": []
  }
 ],
 "metadata": {
  "kernelspec": {
   "display_name": "Python 2",
   "language": "python",
   "name": "python2"
  },
  "language_info": {
   "codemirror_mode": {
    "name": "ipython",
    "version": 2
   },
   "file_extension": ".py",
   "mimetype": "text/x-python",
   "name": "python",
   "nbconvert_exporter": "python",
   "pygments_lexer": "ipython2",
   "version": "2.7.9"
  }
 },
 "nbformat": 4,
 "nbformat_minor": 0
}
